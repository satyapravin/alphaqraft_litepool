{
 "cells": [
  {
   "cell_type": "code",
   "execution_count": 48,
   "id": "222eecbc-2612-4473-9e3f-0361b1329ad4",
   "metadata": {},
   "outputs": [],
   "source": [
    "import pandas as pd\n",
    "import numpy as np"
   ]
  },
  {
   "cell_type": "code",
   "execution_count": 49,
   "id": "30c18717-d7e4-4b55-916f-1222905aa664",
   "metadata": {},
   "outputs": [],
   "source": [
    "df = pd.read_csv(\"signals.csv\", header=0, index_col=['timestamp'])"
   ]
  },
  {
   "cell_type": "code",
   "execution_count": 50,
   "id": "2f1fe93f-aee9-4f1f-8a60-c1378c0b2d42",
   "metadata": {},
   "outputs": [
    {
     "name": "stdout",
     "output_type": "stream",
     "text": [
      "                         bid_price  ask_price  signal_0  signal_1  signal_2  \\\n",
      "timestamp                                                                     \n",
      "2024-04-18 00:00:00.100    61256.0    61256.5 -0.000408 -0.000408 -0.001559   \n",
      "2024-04-18 00:00:00.200    61256.0    61256.5 -0.000408 -0.000408 -0.001810   \n",
      "2024-04-18 00:00:00.300    61256.0    61256.5 -0.000408 -0.001203 -0.002297   \n",
      "2024-04-18 00:00:00.400    61256.0    61256.5 -0.000408 -0.001203 -0.002297   \n",
      "2024-04-18 00:00:00.500    61256.0    61256.5 -0.000489 -0.002032 -0.003072   \n",
      "\n",
      "                         signal_3  signal_4  signal_5  signal_6  signal_7  \\\n",
      "timestamp                                                                   \n",
      "2024-04-18 00:00:00.100 -0.002500 -0.002501  0.005168  0.006319  0.008100   \n",
      "2024-04-18 00:00:00.200 -0.002500 -0.002501  0.005168  0.006133  0.008015   \n",
      "2024-04-18 00:00:00.300 -0.002759 -0.002760  0.001700  0.003524  0.005332   \n",
      "2024-04-18 00:00:00.400 -0.002822 -0.002823  0.001377  0.002878  0.004850   \n",
      "2024-04-18 00:00:00.500 -0.003687 -0.003842  0.000408  0.002525  0.004062   \n",
      "\n",
      "                         ...  signal_21  signal_22  signal_23  signal_24  \\\n",
      "timestamp                ...                                               \n",
      "2024-04-18 00:00:00.100  ...   0.008143   0.013707   0.015821   0.015824   \n",
      "2024-04-18 00:00:00.200  ...   0.007766   0.011336   0.013933   0.013936   \n",
      "2024-04-18 00:00:00.300  ...   0.004081   0.006625   0.009072   0.009077   \n",
      "2024-04-18 00:00:00.400  ...   0.003484   0.006243   0.009334   0.009339   \n",
      "2024-04-18 00:00:00.500  ...   0.002469   0.004675   0.006569   0.007055   \n",
      "\n",
      "                         signal_25  signal_26  signal_27  signal_28  \\\n",
      "timestamp                                                             \n",
      "2024-04-18 00:00:00.100   0.686364   0.564190   0.571855   0.475952   \n",
      "2024-04-18 00:00:00.200   0.686364   0.564190   0.464026   0.475952   \n",
      "2024-04-18 00:00:00.300   0.197886   0.130423   0.260232   0.288832   \n",
      "2024-04-18 00:00:00.400   0.197886   0.130423   0.260232   0.306377   \n",
      "2024-04-18 00:00:00.500  -0.019770  -0.015235   0.175683   0.170665   \n",
      "\n",
      "                         signal_29  Unnamed: 33  \n",
      "timestamp                                        \n",
      "2024-04-18 00:00:00.100   0.475692          NaN  \n",
      "2024-04-18 00:00:00.200   0.475692          NaN  \n",
      "2024-04-18 00:00:00.300   0.288689          NaN  \n",
      "2024-04-18 00:00:00.400   0.306229          NaN  \n",
      "2024-04-18 00:00:00.500   0.143335          NaN  \n",
      "\n",
      "[5 rows x 33 columns]\n"
     ]
    }
   ],
   "source": [
    "df.index = pd.to_datetime(df.index, unit='ms')\n",
    "print(df.head())\n",
    "df.dropna(axis=1, inplace=True)\n",
    "df['mid_price'] = df['bid_price'].add(df['ask_price']) * 0.5"
   ]
  },
  {
   "cell_type": "code",
   "execution_count": 51,
   "id": "cbbecdb3-bd1e-4d11-8239-bd8e893fe06a",
   "metadata": {},
   "outputs": [],
   "source": [
    "df = df.dropna(axis=0)"
   ]
  },
  {
   "cell_type": "code",
   "execution_count": 52,
   "id": "6eff0f1e-f690-45db-8c98-4d942875dc00",
   "metadata": {},
   "outputs": [],
   "source": [
    "df = df.drop(['bid_price', 'ask_price'], axis=1)"
   ]
  },
  {
   "cell_type": "code",
   "execution_count": 53,
   "id": "aa6cb031-ed7c-4f3e-992d-eaf610e9ba29",
   "metadata": {},
   "outputs": [],
   "source": [
    "df['mid_price'] = df['mid_price'].diff()\n",
    "df['mid_price'] = df['mid_price'].shift(-1)"
   ]
  },
  {
   "cell_type": "code",
   "execution_count": 54,
   "id": "d84ab24e-eaa0-4fdb-949a-af2c297f1114",
   "metadata": {},
   "outputs": [],
   "source": [
    "df = df.dropna(axis=0)\n",
    "features = df.drop(['mid_price'], axis=1)"
   ]
  },
  {
   "cell_type": "code",
   "execution_count": 55,
   "id": "9b4a2efd-6662-4f2f-9ad6-eec7352071b2",
   "metadata": {},
   "outputs": [],
   "source": [
    "from sklearn.model_selection import train_test_split\n",
    "df['target'] = np.sign(df['mid_price'])\n",
    "features = df.drop(['mid_price', 'target'], axis=1)"
   ]
  },
  {
   "cell_type": "code",
   "execution_count": 56,
   "id": "15a6f865-4dc2-4f49-aa5d-0fae986cf3e9",
   "metadata": {},
   "outputs": [
    {
     "name": "stderr",
     "output_type": "stream",
     "text": [
      "/tmp/ipykernel_1957182/2275577595.py:4: PerformanceWarning: DataFrame is highly fragmented.  This is usually the result of calling `frame.insert` many times, which has poor performance.  Consider joining all columns at once using pd.concat(axis=1) instead. To get a de-fragmented frame, use `newframe = frame.copy()`\n",
      "  features[col + \"_\" + str(i)] = features[col].shift(i)\n",
      "/tmp/ipykernel_1957182/2275577595.py:4: PerformanceWarning: DataFrame is highly fragmented.  This is usually the result of calling `frame.insert` many times, which has poor performance.  Consider joining all columns at once using pd.concat(axis=1) instead. To get a de-fragmented frame, use `newframe = frame.copy()`\n",
      "  features[col + \"_\" + str(i)] = features[col].shift(i)\n",
      "/tmp/ipykernel_1957182/2275577595.py:4: PerformanceWarning: DataFrame is highly fragmented.  This is usually the result of calling `frame.insert` many times, which has poor performance.  Consider joining all columns at once using pd.concat(axis=1) instead. To get a de-fragmented frame, use `newframe = frame.copy()`\n",
      "  features[col + \"_\" + str(i)] = features[col].shift(i)\n",
      "/tmp/ipykernel_1957182/2275577595.py:4: PerformanceWarning: DataFrame is highly fragmented.  This is usually the result of calling `frame.insert` many times, which has poor performance.  Consider joining all columns at once using pd.concat(axis=1) instead. To get a de-fragmented frame, use `newframe = frame.copy()`\n",
      "  features[col + \"_\" + str(i)] = features[col].shift(i)\n",
      "/tmp/ipykernel_1957182/2275577595.py:4: PerformanceWarning: DataFrame is highly fragmented.  This is usually the result of calling `frame.insert` many times, which has poor performance.  Consider joining all columns at once using pd.concat(axis=1) instead. To get a de-fragmented frame, use `newframe = frame.copy()`\n",
      "  features[col + \"_\" + str(i)] = features[col].shift(i)\n",
      "/tmp/ipykernel_1957182/2275577595.py:4: PerformanceWarning: DataFrame is highly fragmented.  This is usually the result of calling `frame.insert` many times, which has poor performance.  Consider joining all columns at once using pd.concat(axis=1) instead. To get a de-fragmented frame, use `newframe = frame.copy()`\n",
      "  features[col + \"_\" + str(i)] = features[col].shift(i)\n",
      "/tmp/ipykernel_1957182/2275577595.py:4: PerformanceWarning: DataFrame is highly fragmented.  This is usually the result of calling `frame.insert` many times, which has poor performance.  Consider joining all columns at once using pd.concat(axis=1) instead. To get a de-fragmented frame, use `newframe = frame.copy()`\n",
      "  features[col + \"_\" + str(i)] = features[col].shift(i)\n",
      "/tmp/ipykernel_1957182/2275577595.py:4: PerformanceWarning: DataFrame is highly fragmented.  This is usually the result of calling `frame.insert` many times, which has poor performance.  Consider joining all columns at once using pd.concat(axis=1) instead. To get a de-fragmented frame, use `newframe = frame.copy()`\n",
      "  features[col + \"_\" + str(i)] = features[col].shift(i)\n",
      "/tmp/ipykernel_1957182/2275577595.py:4: PerformanceWarning: DataFrame is highly fragmented.  This is usually the result of calling `frame.insert` many times, which has poor performance.  Consider joining all columns at once using pd.concat(axis=1) instead. To get a de-fragmented frame, use `newframe = frame.copy()`\n",
      "  features[col + \"_\" + str(i)] = features[col].shift(i)\n",
      "/tmp/ipykernel_1957182/2275577595.py:4: PerformanceWarning: DataFrame is highly fragmented.  This is usually the result of calling `frame.insert` many times, which has poor performance.  Consider joining all columns at once using pd.concat(axis=1) instead. To get a de-fragmented frame, use `newframe = frame.copy()`\n",
      "  features[col + \"_\" + str(i)] = features[col].shift(i)\n",
      "/tmp/ipykernel_1957182/2275577595.py:4: PerformanceWarning: DataFrame is highly fragmented.  This is usually the result of calling `frame.insert` many times, which has poor performance.  Consider joining all columns at once using pd.concat(axis=1) instead. To get a de-fragmented frame, use `newframe = frame.copy()`\n",
      "  features[col + \"_\" + str(i)] = features[col].shift(i)\n",
      "/tmp/ipykernel_1957182/2275577595.py:4: PerformanceWarning: DataFrame is highly fragmented.  This is usually the result of calling `frame.insert` many times, which has poor performance.  Consider joining all columns at once using pd.concat(axis=1) instead. To get a de-fragmented frame, use `newframe = frame.copy()`\n",
      "  features[col + \"_\" + str(i)] = features[col].shift(i)\n",
      "/tmp/ipykernel_1957182/2275577595.py:4: PerformanceWarning: DataFrame is highly fragmented.  This is usually the result of calling `frame.insert` many times, which has poor performance.  Consider joining all columns at once using pd.concat(axis=1) instead. To get a de-fragmented frame, use `newframe = frame.copy()`\n",
      "  features[col + \"_\" + str(i)] = features[col].shift(i)\n",
      "/tmp/ipykernel_1957182/2275577595.py:4: PerformanceWarning: DataFrame is highly fragmented.  This is usually the result of calling `frame.insert` many times, which has poor performance.  Consider joining all columns at once using pd.concat(axis=1) instead. To get a de-fragmented frame, use `newframe = frame.copy()`\n",
      "  features[col + \"_\" + str(i)] = features[col].shift(i)\n",
      "/tmp/ipykernel_1957182/2275577595.py:4: PerformanceWarning: DataFrame is highly fragmented.  This is usually the result of calling `frame.insert` many times, which has poor performance.  Consider joining all columns at once using pd.concat(axis=1) instead. To get a de-fragmented frame, use `newframe = frame.copy()`\n",
      "  features[col + \"_\" + str(i)] = features[col].shift(i)\n",
      "/tmp/ipykernel_1957182/2275577595.py:4: PerformanceWarning: DataFrame is highly fragmented.  This is usually the result of calling `frame.insert` many times, which has poor performance.  Consider joining all columns at once using pd.concat(axis=1) instead. To get a de-fragmented frame, use `newframe = frame.copy()`\n",
      "  features[col + \"_\" + str(i)] = features[col].shift(i)\n",
      "/tmp/ipykernel_1957182/2275577595.py:4: PerformanceWarning: DataFrame is highly fragmented.  This is usually the result of calling `frame.insert` many times, which has poor performance.  Consider joining all columns at once using pd.concat(axis=1) instead. To get a de-fragmented frame, use `newframe = frame.copy()`\n",
      "  features[col + \"_\" + str(i)] = features[col].shift(i)\n",
      "/tmp/ipykernel_1957182/2275577595.py:4: PerformanceWarning: DataFrame is highly fragmented.  This is usually the result of calling `frame.insert` many times, which has poor performance.  Consider joining all columns at once using pd.concat(axis=1) instead. To get a de-fragmented frame, use `newframe = frame.copy()`\n",
      "  features[col + \"_\" + str(i)] = features[col].shift(i)\n",
      "/tmp/ipykernel_1957182/2275577595.py:4: PerformanceWarning: DataFrame is highly fragmented.  This is usually the result of calling `frame.insert` many times, which has poor performance.  Consider joining all columns at once using pd.concat(axis=1) instead. To get a de-fragmented frame, use `newframe = frame.copy()`\n",
      "  features[col + \"_\" + str(i)] = features[col].shift(i)\n",
      "/tmp/ipykernel_1957182/2275577595.py:4: PerformanceWarning: DataFrame is highly fragmented.  This is usually the result of calling `frame.insert` many times, which has poor performance.  Consider joining all columns at once using pd.concat(axis=1) instead. To get a de-fragmented frame, use `newframe = frame.copy()`\n",
      "  features[col + \"_\" + str(i)] = features[col].shift(i)\n",
      "/tmp/ipykernel_1957182/2275577595.py:4: PerformanceWarning: DataFrame is highly fragmented.  This is usually the result of calling `frame.insert` many times, which has poor performance.  Consider joining all columns at once using pd.concat(axis=1) instead. To get a de-fragmented frame, use `newframe = frame.copy()`\n",
      "  features[col + \"_\" + str(i)] = features[col].shift(i)\n",
      "/tmp/ipykernel_1957182/2275577595.py:4: PerformanceWarning: DataFrame is highly fragmented.  This is usually the result of calling `frame.insert` many times, which has poor performance.  Consider joining all columns at once using pd.concat(axis=1) instead. To get a de-fragmented frame, use `newframe = frame.copy()`\n",
      "  features[col + \"_\" + str(i)] = features[col].shift(i)\n",
      "/tmp/ipykernel_1957182/2275577595.py:4: PerformanceWarning: DataFrame is highly fragmented.  This is usually the result of calling `frame.insert` many times, which has poor performance.  Consider joining all columns at once using pd.concat(axis=1) instead. To get a de-fragmented frame, use `newframe = frame.copy()`\n",
      "  features[col + \"_\" + str(i)] = features[col].shift(i)\n",
      "/tmp/ipykernel_1957182/2275577595.py:4: PerformanceWarning: DataFrame is highly fragmented.  This is usually the result of calling `frame.insert` many times, which has poor performance.  Consider joining all columns at once using pd.concat(axis=1) instead. To get a de-fragmented frame, use `newframe = frame.copy()`\n",
      "  features[col + \"_\" + str(i)] = features[col].shift(i)\n",
      "/tmp/ipykernel_1957182/2275577595.py:4: PerformanceWarning: DataFrame is highly fragmented.  This is usually the result of calling `frame.insert` many times, which has poor performance.  Consider joining all columns at once using pd.concat(axis=1) instead. To get a de-fragmented frame, use `newframe = frame.copy()`\n",
      "  features[col + \"_\" + str(i)] = features[col].shift(i)\n",
      "/tmp/ipykernel_1957182/2275577595.py:4: PerformanceWarning: DataFrame is highly fragmented.  This is usually the result of calling `frame.insert` many times, which has poor performance.  Consider joining all columns at once using pd.concat(axis=1) instead. To get a de-fragmented frame, use `newframe = frame.copy()`\n",
      "  features[col + \"_\" + str(i)] = features[col].shift(i)\n",
      "/tmp/ipykernel_1957182/2275577595.py:4: PerformanceWarning: DataFrame is highly fragmented.  This is usually the result of calling `frame.insert` many times, which has poor performance.  Consider joining all columns at once using pd.concat(axis=1) instead. To get a de-fragmented frame, use `newframe = frame.copy()`\n",
      "  features[col + \"_\" + str(i)] = features[col].shift(i)\n",
      "/tmp/ipykernel_1957182/2275577595.py:4: PerformanceWarning: DataFrame is highly fragmented.  This is usually the result of calling `frame.insert` many times, which has poor performance.  Consider joining all columns at once using pd.concat(axis=1) instead. To get a de-fragmented frame, use `newframe = frame.copy()`\n",
      "  features[col + \"_\" + str(i)] = features[col].shift(i)\n",
      "/tmp/ipykernel_1957182/2275577595.py:4: PerformanceWarning: DataFrame is highly fragmented.  This is usually the result of calling `frame.insert` many times, which has poor performance.  Consider joining all columns at once using pd.concat(axis=1) instead. To get a de-fragmented frame, use `newframe = frame.copy()`\n",
      "  features[col + \"_\" + str(i)] = features[col].shift(i)\n",
      "/tmp/ipykernel_1957182/2275577595.py:4: PerformanceWarning: DataFrame is highly fragmented.  This is usually the result of calling `frame.insert` many times, which has poor performance.  Consider joining all columns at once using pd.concat(axis=1) instead. To get a de-fragmented frame, use `newframe = frame.copy()`\n",
      "  features[col + \"_\" + str(i)] = features[col].shift(i)\n",
      "/tmp/ipykernel_1957182/2275577595.py:4: PerformanceWarning: DataFrame is highly fragmented.  This is usually the result of calling `frame.insert` many times, which has poor performance.  Consider joining all columns at once using pd.concat(axis=1) instead. To get a de-fragmented frame, use `newframe = frame.copy()`\n",
      "  features[col + \"_\" + str(i)] = features[col].shift(i)\n",
      "/tmp/ipykernel_1957182/2275577595.py:4: PerformanceWarning: DataFrame is highly fragmented.  This is usually the result of calling `frame.insert` many times, which has poor performance.  Consider joining all columns at once using pd.concat(axis=1) instead. To get a de-fragmented frame, use `newframe = frame.copy()`\n",
      "  features[col + \"_\" + str(i)] = features[col].shift(i)\n",
      "/tmp/ipykernel_1957182/2275577595.py:4: PerformanceWarning: DataFrame is highly fragmented.  This is usually the result of calling `frame.insert` many times, which has poor performance.  Consider joining all columns at once using pd.concat(axis=1) instead. To get a de-fragmented frame, use `newframe = frame.copy()`\n",
      "  features[col + \"_\" + str(i)] = features[col].shift(i)\n",
      "/tmp/ipykernel_1957182/2275577595.py:4: PerformanceWarning: DataFrame is highly fragmented.  This is usually the result of calling `frame.insert` many times, which has poor performance.  Consider joining all columns at once using pd.concat(axis=1) instead. To get a de-fragmented frame, use `newframe = frame.copy()`\n",
      "  features[col + \"_\" + str(i)] = features[col].shift(i)\n",
      "/tmp/ipykernel_1957182/2275577595.py:4: PerformanceWarning: DataFrame is highly fragmented.  This is usually the result of calling `frame.insert` many times, which has poor performance.  Consider joining all columns at once using pd.concat(axis=1) instead. To get a de-fragmented frame, use `newframe = frame.copy()`\n",
      "  features[col + \"_\" + str(i)] = features[col].shift(i)\n",
      "/tmp/ipykernel_1957182/2275577595.py:4: PerformanceWarning: DataFrame is highly fragmented.  This is usually the result of calling `frame.insert` many times, which has poor performance.  Consider joining all columns at once using pd.concat(axis=1) instead. To get a de-fragmented frame, use `newframe = frame.copy()`\n",
      "  features[col + \"_\" + str(i)] = features[col].shift(i)\n",
      "/tmp/ipykernel_1957182/2275577595.py:4: PerformanceWarning: DataFrame is highly fragmented.  This is usually the result of calling `frame.insert` many times, which has poor performance.  Consider joining all columns at once using pd.concat(axis=1) instead. To get a de-fragmented frame, use `newframe = frame.copy()`\n",
      "  features[col + \"_\" + str(i)] = features[col].shift(i)\n",
      "/tmp/ipykernel_1957182/2275577595.py:4: PerformanceWarning: DataFrame is highly fragmented.  This is usually the result of calling `frame.insert` many times, which has poor performance.  Consider joining all columns at once using pd.concat(axis=1) instead. To get a de-fragmented frame, use `newframe = frame.copy()`\n",
      "  features[col + \"_\" + str(i)] = features[col].shift(i)\n",
      "/tmp/ipykernel_1957182/2275577595.py:4: PerformanceWarning: DataFrame is highly fragmented.  This is usually the result of calling `frame.insert` many times, which has poor performance.  Consider joining all columns at once using pd.concat(axis=1) instead. To get a de-fragmented frame, use `newframe = frame.copy()`\n",
      "  features[col + \"_\" + str(i)] = features[col].shift(i)\n",
      "/tmp/ipykernel_1957182/2275577595.py:4: PerformanceWarning: DataFrame is highly fragmented.  This is usually the result of calling `frame.insert` many times, which has poor performance.  Consider joining all columns at once using pd.concat(axis=1) instead. To get a de-fragmented frame, use `newframe = frame.copy()`\n",
      "  features[col + \"_\" + str(i)] = features[col].shift(i)\n",
      "/tmp/ipykernel_1957182/2275577595.py:4: PerformanceWarning: DataFrame is highly fragmented.  This is usually the result of calling `frame.insert` many times, which has poor performance.  Consider joining all columns at once using pd.concat(axis=1) instead. To get a de-fragmented frame, use `newframe = frame.copy()`\n",
      "  features[col + \"_\" + str(i)] = features[col].shift(i)\n",
      "/tmp/ipykernel_1957182/2275577595.py:4: PerformanceWarning: DataFrame is highly fragmented.  This is usually the result of calling `frame.insert` many times, which has poor performance.  Consider joining all columns at once using pd.concat(axis=1) instead. To get a de-fragmented frame, use `newframe = frame.copy()`\n",
      "  features[col + \"_\" + str(i)] = features[col].shift(i)\n",
      "/tmp/ipykernel_1957182/2275577595.py:4: PerformanceWarning: DataFrame is highly fragmented.  This is usually the result of calling `frame.insert` many times, which has poor performance.  Consider joining all columns at once using pd.concat(axis=1) instead. To get a de-fragmented frame, use `newframe = frame.copy()`\n",
      "  features[col + \"_\" + str(i)] = features[col].shift(i)\n",
      "/tmp/ipykernel_1957182/2275577595.py:4: PerformanceWarning: DataFrame is highly fragmented.  This is usually the result of calling `frame.insert` many times, which has poor performance.  Consider joining all columns at once using pd.concat(axis=1) instead. To get a de-fragmented frame, use `newframe = frame.copy()`\n",
      "  features[col + \"_\" + str(i)] = features[col].shift(i)\n",
      "/tmp/ipykernel_1957182/2275577595.py:4: PerformanceWarning: DataFrame is highly fragmented.  This is usually the result of calling `frame.insert` many times, which has poor performance.  Consider joining all columns at once using pd.concat(axis=1) instead. To get a de-fragmented frame, use `newframe = frame.copy()`\n",
      "  features[col + \"_\" + str(i)] = features[col].shift(i)\n",
      "/tmp/ipykernel_1957182/2275577595.py:4: PerformanceWarning: DataFrame is highly fragmented.  This is usually the result of calling `frame.insert` many times, which has poor performance.  Consider joining all columns at once using pd.concat(axis=1) instead. To get a de-fragmented frame, use `newframe = frame.copy()`\n",
      "  features[col + \"_\" + str(i)] = features[col].shift(i)\n",
      "/tmp/ipykernel_1957182/2275577595.py:4: PerformanceWarning: DataFrame is highly fragmented.  This is usually the result of calling `frame.insert` many times, which has poor performance.  Consider joining all columns at once using pd.concat(axis=1) instead. To get a de-fragmented frame, use `newframe = frame.copy()`\n",
      "  features[col + \"_\" + str(i)] = features[col].shift(i)\n",
      "/tmp/ipykernel_1957182/2275577595.py:4: PerformanceWarning: DataFrame is highly fragmented.  This is usually the result of calling `frame.insert` many times, which has poor performance.  Consider joining all columns at once using pd.concat(axis=1) instead. To get a de-fragmented frame, use `newframe = frame.copy()`\n",
      "  features[col + \"_\" + str(i)] = features[col].shift(i)\n",
      "/tmp/ipykernel_1957182/2275577595.py:4: PerformanceWarning: DataFrame is highly fragmented.  This is usually the result of calling `frame.insert` many times, which has poor performance.  Consider joining all columns at once using pd.concat(axis=1) instead. To get a de-fragmented frame, use `newframe = frame.copy()`\n",
      "  features[col + \"_\" + str(i)] = features[col].shift(i)\n",
      "/tmp/ipykernel_1957182/2275577595.py:4: PerformanceWarning: DataFrame is highly fragmented.  This is usually the result of calling `frame.insert` many times, which has poor performance.  Consider joining all columns at once using pd.concat(axis=1) instead. To get a de-fragmented frame, use `newframe = frame.copy()`\n",
      "  features[col + \"_\" + str(i)] = features[col].shift(i)\n",
      "/tmp/ipykernel_1957182/2275577595.py:4: PerformanceWarning: DataFrame is highly fragmented.  This is usually the result of calling `frame.insert` many times, which has poor performance.  Consider joining all columns at once using pd.concat(axis=1) instead. To get a de-fragmented frame, use `newframe = frame.copy()`\n",
      "  features[col + \"_\" + str(i)] = features[col].shift(i)\n"
     ]
    }
   ],
   "source": [
    "columns = features.columns\n",
    "for i in range(1, 6):\n",
    "    for col in columns:\n",
    "        features[col + \"_\" + str(i)] = features[col].shift(i)"
   ]
  },
  {
   "cell_type": "code",
   "execution_count": 57,
   "id": "626e6488-5a5d-4641-aeb9-6e0075de5734",
   "metadata": {},
   "outputs": [],
   "source": [
    "from imblearn.over_sampling import SMOTE\n",
    "\n",
    "features = features.dropna()\n",
    "target = df['target'].shift(5).dropna()\n",
    "x_train, x_test, y_train, y_test = train_test_split(features, target, test_size=0.4)\n",
    "smote = SMOTE(random_state=42)\n",
    "x_train, y_train = smote.fit_resample(x_train, y_train)"
   ]
  },
  {
   "cell_type": "code",
   "execution_count": 58,
   "id": "bd445360-ae18-414f-876f-71798906e2b7",
   "metadata": {},
   "outputs": [],
   "source": [
    "from sklearn.ensemble import RandomForestClassifier as RFC"
   ]
  },
  {
   "cell_type": "code",
   "execution_count": 59,
   "id": "c4896eef-0f1c-4d46-b9b5-3fcf69c74586",
   "metadata": {},
   "outputs": [
    {
     "name": "stderr",
     "output_type": "stream",
     "text": [
      "[Parallel(n_jobs=8)]: Using backend ThreadingBackend with 8 concurrent workers.\n",
      "[Parallel(n_jobs=8)]: Done  34 tasks      | elapsed:   14.1s\n",
      "[Parallel(n_jobs=8)]: Done 100 out of 100 | elapsed:   40.3s finished\n"
     ]
    },
    {
     "data": {
      "text/html": [
       "<style>#sk-container-id-5 {color: black;background-color: white;}#sk-container-id-5 pre{padding: 0;}#sk-container-id-5 div.sk-toggleable {background-color: white;}#sk-container-id-5 label.sk-toggleable__label {cursor: pointer;display: block;width: 100%;margin-bottom: 0;padding: 0.3em;box-sizing: border-box;text-align: center;}#sk-container-id-5 label.sk-toggleable__label-arrow:before {content: \"▸\";float: left;margin-right: 0.25em;color: #696969;}#sk-container-id-5 label.sk-toggleable__label-arrow:hover:before {color: black;}#sk-container-id-5 div.sk-estimator:hover label.sk-toggleable__label-arrow:before {color: black;}#sk-container-id-5 div.sk-toggleable__content {max-height: 0;max-width: 0;overflow: hidden;text-align: left;background-color: #f0f8ff;}#sk-container-id-5 div.sk-toggleable__content pre {margin: 0.2em;color: black;border-radius: 0.25em;background-color: #f0f8ff;}#sk-container-id-5 input.sk-toggleable__control:checked~div.sk-toggleable__content {max-height: 200px;max-width: 100%;overflow: auto;}#sk-container-id-5 input.sk-toggleable__control:checked~label.sk-toggleable__label-arrow:before {content: \"▾\";}#sk-container-id-5 div.sk-estimator input.sk-toggleable__control:checked~label.sk-toggleable__label {background-color: #d4ebff;}#sk-container-id-5 div.sk-label input.sk-toggleable__control:checked~label.sk-toggleable__label {background-color: #d4ebff;}#sk-container-id-5 input.sk-hidden--visually {border: 0;clip: rect(1px 1px 1px 1px);clip: rect(1px, 1px, 1px, 1px);height: 1px;margin: -1px;overflow: hidden;padding: 0;position: absolute;width: 1px;}#sk-container-id-5 div.sk-estimator {font-family: monospace;background-color: #f0f8ff;border: 1px dotted black;border-radius: 0.25em;box-sizing: border-box;margin-bottom: 0.5em;}#sk-container-id-5 div.sk-estimator:hover {background-color: #d4ebff;}#sk-container-id-5 div.sk-parallel-item::after {content: \"\";width: 100%;border-bottom: 1px solid gray;flex-grow: 1;}#sk-container-id-5 div.sk-label:hover label.sk-toggleable__label {background-color: #d4ebff;}#sk-container-id-5 div.sk-serial::before {content: \"\";position: absolute;border-left: 1px solid gray;box-sizing: border-box;top: 0;bottom: 0;left: 50%;z-index: 0;}#sk-container-id-5 div.sk-serial {display: flex;flex-direction: column;align-items: center;background-color: white;padding-right: 0.2em;padding-left: 0.2em;position: relative;}#sk-container-id-5 div.sk-item {position: relative;z-index: 1;}#sk-container-id-5 div.sk-parallel {display: flex;align-items: stretch;justify-content: center;background-color: white;position: relative;}#sk-container-id-5 div.sk-item::before, #sk-container-id-5 div.sk-parallel-item::before {content: \"\";position: absolute;border-left: 1px solid gray;box-sizing: border-box;top: 0;bottom: 0;left: 50%;z-index: -1;}#sk-container-id-5 div.sk-parallel-item {display: flex;flex-direction: column;z-index: 1;position: relative;background-color: white;}#sk-container-id-5 div.sk-parallel-item:first-child::after {align-self: flex-end;width: 50%;}#sk-container-id-5 div.sk-parallel-item:last-child::after {align-self: flex-start;width: 50%;}#sk-container-id-5 div.sk-parallel-item:only-child::after {width: 0;}#sk-container-id-5 div.sk-dashed-wrapped {border: 1px dashed gray;margin: 0 0.4em 0.5em 0.4em;box-sizing: border-box;padding-bottom: 0.4em;background-color: white;}#sk-container-id-5 div.sk-label label {font-family: monospace;font-weight: bold;display: inline-block;line-height: 1.2em;}#sk-container-id-5 div.sk-label-container {text-align: center;}#sk-container-id-5 div.sk-container {/* jupyter's `normalize.less` sets `[hidden] { display: none; }` but bootstrap.min.css set `[hidden] { display: none !important; }` so we also need the `!important` here to be able to override the default hidden behavior on the sphinx rendered scikit-learn.org. See: https://github.com/scikit-learn/scikit-learn/issues/21755 */display: inline-block !important;position: relative;}#sk-container-id-5 div.sk-text-repr-fallback {display: none;}</style><div id=\"sk-container-id-5\" class=\"sk-top-container\"><div class=\"sk-text-repr-fallback\"><pre>RandomForestClassifier(n_jobs=8, random_state=42, verbose=1)</pre><b>In a Jupyter environment, please rerun this cell to show the HTML representation or trust the notebook. <br />On GitHub, the HTML representation is unable to render, please try loading this page with nbviewer.org.</b></div><div class=\"sk-container\" hidden><div class=\"sk-item\"><div class=\"sk-estimator sk-toggleable\"><input class=\"sk-toggleable__control sk-hidden--visually\" id=\"sk-estimator-id-5\" type=\"checkbox\" checked><label for=\"sk-estimator-id-5\" class=\"sk-toggleable__label sk-toggleable__label-arrow\">RandomForestClassifier</label><div class=\"sk-toggleable__content\"><pre>RandomForestClassifier(n_jobs=8, random_state=42, verbose=1)</pre></div></div></div></div></div>"
      ],
      "text/plain": [
       "RandomForestClassifier(n_jobs=8, random_state=42, verbose=1)"
      ]
     },
     "execution_count": 59,
     "metadata": {},
     "output_type": "execute_result"
    }
   ],
   "source": [
    "rf = RFC(random_state=42, verbose=1, n_jobs=8)\n",
    "rf.fit(x_train, y_train)"
   ]
  },
  {
   "cell_type": "code",
   "execution_count": 60,
   "id": "6d0baf0f-d01b-4ffc-be43-222f5e787707",
   "metadata": {},
   "outputs": [],
   "source": [
    "from sklearn.metrics import classification_report, confusion_matrix"
   ]
  },
  {
   "cell_type": "code",
   "execution_count": 61,
   "id": "c8e4f5d1-7384-4ea2-80fd-82c4c4535a51",
   "metadata": {},
   "outputs": [
    {
     "name": "stderr",
     "output_type": "stream",
     "text": [
      "[Parallel(n_jobs=8)]: Using backend ThreadingBackend with 8 concurrent workers.\n",
      "[Parallel(n_jobs=8)]: Done  34 tasks      | elapsed:    0.1s\n",
      "[Parallel(n_jobs=8)]: Done 100 out of 100 | elapsed:    0.2s finished\n"
     ]
    }
   ],
   "source": [
    "predictions = rf.predict(x_test)"
   ]
  },
  {
   "cell_type": "code",
   "execution_count": 62,
   "id": "fb2eef4d-06d9-4803-974e-d7864f7d24a0",
   "metadata": {},
   "outputs": [
    {
     "name": "stdout",
     "output_type": "stream",
     "text": [
      "              precision    recall  f1-score   support\n",
      "\n",
      "        -1.0       0.66      0.69      0.68       415\n",
      "         0.0       0.99      0.98      0.98     12141\n",
      "         1.0       0.66      0.66      0.66       301\n",
      "\n",
      "    accuracy                           0.97     12857\n",
      "   macro avg       0.77      0.78      0.77     12857\n",
      "weighted avg       0.97      0.97      0.97     12857\n",
      "\n"
     ]
    }
   ],
   "source": [
    "print(classification_report(y_test, predictions))"
   ]
  },
  {
   "cell_type": "code",
   "execution_count": 63,
   "id": "abf52570-130d-4d96-98c5-ff49c250a5f4",
   "metadata": {},
   "outputs": [
    {
     "name": "stdout",
     "output_type": "stream",
     "text": [
      "30345\n",
      "(32147, 32)\n"
     ]
    }
   ],
   "source": [
    "print((df['target'] == 0).sum())\n",
    "print(df.shape)"
   ]
  },
  {
   "cell_type": "code",
   "execution_count": null,
   "id": "f7191541-311b-4c32-9727-7004afd217e9",
   "metadata": {},
   "outputs": [],
   "source": []
  }
 ],
 "metadata": {
  "kernelspec": {
   "display_name": "Python 3 (ipykernel)",
   "language": "python",
   "name": "python3"
  },
  "language_info": {
   "codemirror_mode": {
    "name": "ipython",
    "version": 3
   },
   "file_extension": ".py",
   "mimetype": "text/x-python",
   "name": "python",
   "nbconvert_exporter": "python",
   "pygments_lexer": "ipython3",
   "version": "3.11.7"
  }
 },
 "nbformat": 4,
 "nbformat_minor": 5
}
