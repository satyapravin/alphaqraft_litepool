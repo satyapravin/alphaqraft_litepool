{
 "cells": [
  {
   "cell_type": "code",
   "execution_count": 1,
   "id": "90181614-8f8f-4f95-9a12-05b8f421e3ff",
   "metadata": {},
   "outputs": [],
   "source": [
    "import gymnasium"
   ]
  },
  {
   "cell_type": "code",
   "execution_count": 2,
   "id": "5a5aeccf-66b6-4c6e-ad8e-f9e188cc8d99",
   "metadata": {},
   "outputs": [],
   "source": [
    "num_envs = 64\n",
    "env_id = \"RlTrader-v0\" \n",
    "seed = 0\n",
    "learning_rate=2.5e-4"
   ]
  },
  {
   "cell_type": "code",
   "execution_count": 3,
   "id": "7623308e-d37d-45cd-9783-ad71d8d82ca0",
   "metadata": {},
   "outputs": [
    {
     "name": "stderr",
     "output_type": "stream",
     "text": [
      "2024-07-19 23:09:33.129068: I tensorflow/core/util/port.cc:113] oneDNN custom operations are on. You may see slightly different numerical results due to floating-point round-off errors from different computation orders. To turn them off, set the environment variable `TF_ENABLE_ONEDNN_OPTS=0`.\n",
      "2024-07-19 23:09:33.157961: E external/local_xla/xla/stream_executor/cuda/cuda_dnn.cc:9261] Unable to register cuDNN factory: Attempting to register factory for plugin cuDNN when one has already been registered\n",
      "2024-07-19 23:09:33.157985: E external/local_xla/xla/stream_executor/cuda/cuda_fft.cc:607] Unable to register cuFFT factory: Attempting to register factory for plugin cuFFT when one has already been registered\n",
      "2024-07-19 23:09:33.158705: E external/local_xla/xla/stream_executor/cuda/cuda_blas.cc:1515] Unable to register cuBLAS factory: Attempting to register factory for plugin cuBLAS when one has already been registered\n",
      "2024-07-19 23:09:33.165538: I tensorflow/core/platform/cpu_feature_guard.cc:182] This TensorFlow binary is optimized to use available CPU instructions in performance-critical operations.\n",
      "To enable the following instructions: AVX2 AVX_VNNI FMA, in other operations, rebuild TensorFlow with the appropriate compiler flags.\n",
      "2024-07-19 23:09:33.842734: W tensorflow/compiler/tf2tensorrt/utils/py_utils.cc:38] TF-TRT Warning: Could not find TensorRT\n"
     ]
    }
   ],
   "source": [
    "from typing import Optional\n",
    "import numpy as np\n",
    "import torch as th\n",
    "from packaging import version\n",
    "from stable_baselines3 import PPO\n",
    "from stable_baselines3.common.env_util import make_vec_env\n",
    "from stable_baselines3.common.evaluation import evaluate_policy\n",
    "from stable_baselines3.common.vec_env import VecEnvWrapper, VecMonitor\n",
    "from stable_baselines3.common.vec_env.base_vec_env import (\n",
    "  VecEnvObs,\n",
    "  VecEnvStepReturn,\n",
    ")\n",
    "\n",
    "import litepool\n",
    "from litepool.python.protocol import LitePool"
   ]
  },
  {
   "cell_type": "code",
   "execution_count": 4,
   "id": "0a5520ed-7a64-4f4d-98c8-0a185bd446d2",
   "metadata": {},
   "outputs": [],
   "source": [
    "class VecAdapter(VecEnvWrapper):\n",
    "  def __init__(self, venv: LitePool):\n",
    "    venv.num_envs = venv.spec.config.num_envs\n",
    "    super().__init__(venv=venv)\n",
    "    self.env_ids = None\n",
    "\n",
    "  def step_async(self, actions: np.ndarray) -> None:\n",
    "    self.actions = actions\n",
    "\n",
    "  def reset(self) -> VecEnvObs:\n",
    "      self.env_ids = None\n",
    "      return self.venv.reset()[0]\n",
    "\n",
    "  def seed(self, seed: Optional[int] = None) -> None:\n",
    "    pass\n",
    "\n",
    "  def step_wait(self) -> VecEnvStepReturn:\n",
    "      if self.env_ids is None:\n",
    "          self.venv.send(self.actions)\n",
    "      else:\n",
    "          self.venv.send(self.actions, self.env_ids)\n",
    "    \n",
    "      obs, rewards, terms, truncs, info_dict = self.venv.recv()\n",
    "      dones = terms + truncs\n",
    "      infos = []\n",
    "      for i in range(self.num_envs):\n",
    "          infos.append({\n",
    "              key: info_dict[key][i]\n",
    "              for key in info_dict.keys()\n",
    "              if isinstance(info_dict[key], np.ndarray)\n",
    "          })\n",
    "      if dones[i]:\n",
    "          print(rewards[i])\n",
    "          infos[i][\"terminal_observation\"] = obs[i]\n",
    "          obs[i] = self.venv.reset(np.array([i]))[0]\n",
    "      return obs, rewards, dones, infos"
   ]
  },
  {
   "cell_type": "code",
   "execution_count": 5,
   "id": "711aa4c8-6822-4d42-b325-a3f12aa12a89",
   "metadata": {},
   "outputs": [
    {
     "name": "stderr",
     "output_type": "stream",
     "text": [
      "/home/pravin/anaconda3/lib/python3.11/site-packages/stable_baselines3/common/vec_env/base_vec_env.py:77: UserWarning: The `render_mode` attribute is not defined in your environment. It will be set to None.\n",
      "  warnings.warn(\"The `render_mode` attribute is not defined in your environment. It will be set to None.\")\n"
     ]
    }
   ],
   "source": [
    "env = env = litepool.make(\"RlTrader-v0\", env_type=\"gymnasium\", \n",
    "                          num_envs=num_envs, batch_size=4, \n",
    "                          num_threads=16, \n",
    "                          filename=\"deribit.csv\", \n",
    "                          balance=0.1,\n",
    "                          depth=20)\n",
    "env.spec.id = env_id\n",
    "env = VecAdapter(env)\n",
    "env = VecMonitor(env)"
   ]
  },
  {
   "cell_type": "code",
   "execution_count": null,
   "id": "2ba4f33d-9ca1-4c1b-a250-cd9ec8875902",
   "metadata": {},
   "outputs": [
    {
     "name": "stdout",
     "output_type": "stream",
     "text": [
      "Using cpu device\n"
     ]
    }
   ],
   "source": [
    "kwargs = dict(use_sde=True, sde_sample_freq=4)\n",
    "\n",
    "model = PPO(\n",
    "  \"MlpPolicy\",\n",
    "  env,\n",
    "  n_steps=1024,\n",
    "  learning_rate=1e-3,\n",
    "  gae_lambda=0.95,\n",
    "  gamma=0.9,\n",
    "  verbose=1,\n",
    "  seed=seed,\n",
    "  **kwargs\n",
    ")\n",
    "\n",
    "model.learn(100)"
   ]
  },
  {
   "cell_type": "code",
   "execution_count": null,
   "id": "144e9df5-7228-4a8c-a603-538e83daf749",
   "metadata": {},
   "outputs": [],
   "source": []
  }
 ],
 "metadata": {
  "kernelspec": {
   "display_name": "Python 3 (ipykernel)",
   "language": "python",
   "name": "python3"
  },
  "language_info": {
   "codemirror_mode": {
    "name": "ipython",
    "version": 3
   },
   "file_extension": ".py",
   "mimetype": "text/x-python",
   "name": "python",
   "nbconvert_exporter": "python",
   "pygments_lexer": "ipython3",
   "version": "3.11.7"
  }
 },
 "nbformat": 4,
 "nbformat_minor": 5
}
